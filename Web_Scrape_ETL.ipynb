{
 "cells": [
  {
   "cell_type": "code",
   "execution_count": 17,
   "id": "953b2312",
   "metadata": {},
   "outputs": [
    {
     "name": "stdout",
     "output_type": "stream",
     "text": [
      "Imported pandas.\n",
      "Imported webdriver from selenium.\n",
      "Imported By from selenium.webdriver.common.\n",
      "Imported WebDriverWait from selenium.webdriver.support.ui.\n",
      "Imported expected_conditions as EC from selenium.webdriver.support.\n",
      "Imported Select from selenium.webdriver.support.ui.\n",
      "Imported ActionChains from selenium.webdriver.common.\n",
      "Imported exceptions from selenium.common.exceptions.\n",
      "Imported time module.\n",
      "All modules imported successfully. Ready to initialize the Safari WebDriver.\n"
     ]
    }
   ],
   "source": [
    "# Import all necessary tools and Selenium\n",
    "import pandas as pd\n",
    "print(\"Imported pandas.\")\n",
    "\n",
    "from selenium import webdriver\n",
    "print(\"Imported webdriver from selenium.\")\n",
    "\n",
    "from selenium.webdriver.common.by import By\n",
    "print(\"Imported By from selenium.webdriver.common.\")\n",
    "\n",
    "from selenium.webdriver.support.ui import WebDriverWait\n",
    "print(\"Imported WebDriverWait from selenium.webdriver.support.ui.\")\n",
    "\n",
    "from selenium.webdriver.support import expected_conditions as EC\n",
    "print(\"Imported expected_conditions as EC from selenium.webdriver.support.\")\n",
    "\n",
    "from selenium.webdriver.support.ui import Select\n",
    "print(\"Imported Select from selenium.webdriver.support.ui.\")\n",
    "\n",
    "from selenium.webdriver.common.action_chains import ActionChains\n",
    "print(\"Imported ActionChains from selenium.webdriver.common.\")\n",
    "\n",
    "from selenium.common.exceptions import NoSuchElementException, StaleElementReferenceException, TimeoutException, WebDriverException\n",
    "print(\"Imported exceptions from selenium.common.exceptions.\")\n",
    "\n",
    "import time\n",
    "print(\"Imported time module.\")\n",
    "\n",
    "print(\"All modules imported successfully. Ready to initialize the Safari WebDriver.\")\n"
   ]
  },
  {
   "cell_type": "code",
   "execution_count": 18,
   "id": "8bde4f60",
   "metadata": {},
   "outputs": [
    {
     "name": "stdout",
     "output_type": "stream",
     "text": [
      "Preparing to launch the Safari WebDriver...\n",
      "Safari WebDriver has been successfully initialized and launched.\n"
     ]
    }
   ],
   "source": [
    "print(\"Preparing to launch the Safari WebDriver...\")\n",
    "\n",
    "try:\n",
    "    # Attempt to create a WebDriver instance for Safari\n",
    "    driver = webdriver.Safari()\n",
    "    print(\"Safari WebDriver has been successfully initialized and launched.\")\n",
    "\n",
    "except WebDriverException as e:\n",
    "    print(\"Failed to launch Safari WebDriver due to a WebDriver exception:\")\n",
    "    print(str(e))\n",
    "except Exception as e:\n",
    "    print(\"An unexpected error occurred while initializing the Safari WebDriver:\")\n",
    "    print(str(e))"
   ]
  },
  {
   "cell_type": "code",
   "execution_count": 26,
   "id": "66a9f38e",
   "metadata": {},
   "outputs": [
    {
     "name": "stdout",
     "output_type": "stream",
     "text": [
      "changed WebDriver Wait Time to 5 to reduce failure chance when submitting inputs\n"
     ]
    }
   ],
   "source": [
    "#set wait time to reduce server load/lag/failure\n",
    "wait = WebDriverWait(driver, 1)\n",
    "print(\"changed WebDriver Wait Time to 5 to reduce failure chance when submitting inputs\")"
   ]
  },
  {
   "cell_type": "code",
   "execution_count": 20,
   "id": "99fbe688",
   "metadata": {},
   "outputs": [
    {
     "name": "stdout",
     "output_type": "stream",
     "text": [
      "Attempting to open the website: https://finder.healthcare.gov/#planresults&U2FsdGVkX1%2Fi5Pmjp%2BsYYiIO9oHYp0MR2uRIy9rhiZDkkdOucG2AHsvkdr%2FhLAGdUvzzgfZRgiPamBjtoPtoMyuTDDQsTTM%2FUq2DFb4lUJwsimkgTasUaO9C%2BfEt4SasLUb7FhLAcBFvpTMofTrM9e73VkrJIpyzU7F2HGHe8ypZUXRLL2Wz9gDsHfLRnXBcg3YcxYzoazR8NwP4lr9CsVfA0CDQE71t%2BgQgAKqNqwM%3D\n",
      "Opened the website: https://finder.healthcare.gov/#planresults&U2FsdGVkX1%2Fi5Pmjp%2BsYYiIO9oHYp0MR2uRIy9rhiZDkkdOucG2AHsvkdr%2FhLAGdUvzzgfZRgiPamBjtoPtoMyuTDDQsTTM%2FUq2DFb4lUJwsimkgTasUaO9C%2BfEt4SasLUb7FhLAcBFvpTMofTrM9e73VkrJIpyzU7F2HGHe8ypZUXRLL2Wz9gDsHfLRnXBcg3YcxYzoazR8NwP4lr9CsVfA0CDQE71t%2BgQgAKqNqwM%3D\n",
      "Page title after loading: Finder.Healthcare.gov\n",
      "Setting up automation window action drivers variable\n"
     ]
    }
   ],
   "source": [
    "# Initialize the WebDriver and navigate to a URL\n",
    "try:\n",
    "    \n",
    "    url = \"https://finder.healthcare.gov/#planresults&U2FsdGVkX1%2Fi5Pmjp%2BsYYiIO9oHYp0MR2uRIy9rhiZDkkdOucG2AHsvkdr%2FhLAGdUvzzgfZRgiPamBjtoPtoMyuTDDQsTTM%2FUq2DFb4lUJwsimkgTasUaO9C%2BfEt4SasLUb7FhLAcBFvpTMofTrM9e73VkrJIpyzU7F2HGHe8ypZUXRLL2Wz9gDsHfLRnXBcg3YcxYzoazR8NwP4lr9CsVfA0CDQE71t%2BgQgAKqNqwM%3D\"\n",
    "    print(f\"Attempting to open the website: {url}\")\n",
    "    driver.get(url)\n",
    "    print(f\"Opened the website: {url}\")\n",
    "\n",
    "    # Optionally add a timeout for loading the page\n",
    "    driver.set_page_load_timeout(10)  # Set timeout to 10 seconds\n",
    "\n",
    "    print(f\"Page title after loading: {driver.title}\")\n",
    "    actions = ActionChains(driver)\n",
    "    print(\"Setting up automation window action drivers variable\")\n",
    "\n",
    "except TimeoutException as e:\n",
    "    print(\"Error: The page did not load within the expected time.\", e)\n",
    "except WebDriverException as e:\n",
    "    print(\"Web Driver error occurred:\", e)\n",
    "except Exception as e:\n",
    "    print(\"An unexpected error occurred while initializing the driver or loading the page:\", e)\n"
   ]
  },
  {
   "cell_type": "code",
   "execution_count": 21,
   "id": "140bb37d",
   "metadata": {},
   "outputs": [
    {
     "name": "stdout",
     "output_type": "stream",
     "text": [
      "Set window size to 750x1200 pixels\n"
     ]
    }
   ],
   "source": [
    "#set window size for monitor\n",
    "width, height = 750, 1200\n",
    "driver.set_window_size(width, height)\n",
    "\n",
    "# Use an f-string to dynamically include the window size in the print statement\n",
    "print(f\"Set window size to {width}x{height} pixels\")"
   ]
  },
  {
   "cell_type": "code",
   "execution_count": 25,
   "id": "c55a3bf0",
   "metadata": {},
   "outputs": [
    {
     "name": "stdout",
     "output_type": "stream",
     "text": [
      "Starting the process to navigate to the healthcare plans page...\n",
      "Locating the 'I am seeking coverage for myself' button by ID: btn-plansHome\n",
      "Timeout error: The button was not clickable within the time limit set by WebDriverWait. Message: The button 'I am seeking coverage for myself' was not clickable within the expected time.\n",
      "\n"
     ]
    }
   ],
   "source": [
    "print(\"Starting the process to navigate to the healthcare plans page...\")\n",
    "\n",
    "try:\n",
    "    print(\"Locating the 'I am seeking coverage for myself' button by ID: btn-plansHome\")\n",
    "    # Locate the button by ID\n",
    "    button = wait.until(\n",
    "        EC.element_to_be_clickable((By.ID, \"btn-plansHome\")),\n",
    "        message=\"The button 'I am seeking coverage for myself' was not clickable within the expected time.\"\n",
    "    )\n",
    "    print(\"Button located successfully. Proceeding to click the button.\")\n",
    "    \n",
    "    # Click the button if needed\n",
    "    button.click()\n",
    "    print(\"Button clicked. Navigating to the details page.\")\n",
    "\n",
    "    # Fetch the HTML of the entire body after clicking\n",
    "    print(\"Fetching the HTML of the current page...\")\n",
    "    body_html = driver.execute_script(\"return document.body.innerHTML;\")\n",
    "    print(\"Successfully retrieved HTML content of the page.\")\n",
    "\n",
    "except NoSuchElementException as e:\n",
    "    print(\"Element not found error: The 'I am seeking coverage for myself' button could not be located on the page.\", e)\n",
    "except TimeoutException as e:\n",
    "    print(\"Timeout error: The button was not clickable within the time limit set by WebDriverWait.\", e)\n",
    "except ElementClickInterceptedException as e:\n",
    "    print(\"Element click intercepted error: Something is blocking the button from being clicked.\", e)\n",
    "except ElementNotInteractableException as e:\n",
    "    print(\"Element not interactable error: The button is present but not in a state that allows interaction.\", e)\n",
    "except Exception as e:\n",
    "    print(\"An unexpected error occurred during the process:\", e)\n",
    "    print(\"Error details:\", str(e))"
   ]
  },
  {
   "cell_type": "code",
   "execution_count": 27,
   "id": "21cba461",
   "metadata": {},
   "outputs": [
    {
     "name": "stdout",
     "output_type": "stream",
     "text": [
      "Starting the process to input the zipcode...\n",
      "Locating the zipcode input field by ID: zip\n",
      "Zipcode input field located successfully.\n",
      "Clearing any pre-existing text in the zipcode input field.\n",
      "Inputting the zipcode: 87001\n",
      "Fetching the HTML of the current page...\n",
      "Successfully retrieved HTML content of the page.\n",
      "!!! PLEASE MAKE SURE TO WAIT APPROX 1 SECOND AFTER CLICKING ON NEXT CELL, WAIT FOR WEBSITE TO LOAD !!!\n"
     ]
    }
   ],
   "source": [
    "print(\"Starting the process to input the zipcode...\")\n",
    "\n",
    "try:\n",
    "    print(\"Locating the zipcode input field by ID: zip\")\n",
    "    # Wait for the zipcode input field to be visible\n",
    "    zip_input = wait.until(\n",
    "        EC.visibility_of_element_located((By.ID, \"zip\")),\n",
    "        message=\"Zipcode input field was not visible within the expected time.\"\n",
    "    )\n",
    "    print(\"Zipcode input field located successfully.\")\n",
    "\n",
    "    # Clear any pre-existing text in the input box\n",
    "    print(\"Clearing any pre-existing text in the zipcode input field.\")\n",
    "    zip_input.clear()\n",
    "    \n",
    "    # Input the zipcode\n",
    "    print(\"Inputting the zipcode: 87001\")\n",
    "    zip_input.send_keys(\"87001\")\n",
    "    \n",
    "    # Optional: wait a bit to allow the page to react to the input if necessary\n",
    "    time.sleep(1)  # Adjust delay as needed based on the website's response time to input\n",
    "    \n",
    "    # Fetch the HTML of the entire body after inputting the zipcode\n",
    "    print(\"Fetching the HTML of the current page...\")\n",
    "    body_html = driver.execute_script(\"return document.body.innerHTML;\")\n",
    "    print(\"Successfully retrieved HTML content of the page.\")\n",
    "    print(\"!!! PLEASE MAKE SURE TO WAIT APPROX 1 SECOND AFTER CLICKING ON NEXT CELL, WAIT FOR WEBSITE TO LOAD !!!\")\n",
    "\n",
    "    \n",
    "except NoSuchElementException as e:\n",
    "    print(\"Element not found error: The 'zip' input field could not be located on the page.\", e)\n",
    "except TimeoutException as e:\n",
    "    print(\"Timeout error: The 'zip' input field did not become visible within the expected time.\", e)\n",
    "except ElementNotInteractableException as e:\n",
    "    print(\"Element not interactable error: The 'zip' input field is not interactable.\", e)\n",
    "except Exception as e:\n",
    "    print(\"An unexpected error occurred during the zipcode input process:\", e)\n",
    "    print(\"Error details:\", str(e))"
   ]
  },
  {
   "cell_type": "code",
   "execution_count": 28,
   "id": "054b5d24",
   "metadata": {},
   "outputs": [
    {
     "name": "stdout",
     "output_type": "stream",
     "text": [
      "!!! PLEASE MAKE SURE TO WAIT APPROX 1 SECOND AFTER CLICKING ON CELL, WAIT FOR WEBSITE TO LOAD !!!\n",
      "Starting the process to input gender, DOB, and tobacco usage values...\n",
      "Locating the gender selection dropdown...\n",
      "Gender dropdown located successfully. Selecting 'Male'...\n",
      "Gender 'Male' selected.\n",
      "Locating the DOB input field...\n",
      "DOB input field located. Setting DOB to '10/30/2001'...\n",
      "DOB set successfully.\n",
      "Locating the tobacco usage dropdown...\n",
      "Tobacco usage dropdown located successfully. Selecting 'Non-Smoker'...\n",
      "Tobacco usage 'Non-Smoker' selected.\n",
      "Fetching the HTML of the current page after updates...\n",
      "Successfully retrieved HTML content of the page.\n"
     ]
    }
   ],
   "source": [
    "print(\"!!! PLEASE MAKE SURE TO WAIT APPROX 1 SECOND AFTER CLICKING ON CELL, WAIT FOR WEBSITE TO LOAD !!!\")\n",
    "print(\"Starting the process to input gender, DOB, and tobacco usage values...\")\n",
    "\n",
    "try:\n",
    "    print(\"Locating the gender selection dropdown...\")\n",
    "    primary_gender_select = wait.until(\n",
    "        EC.element_to_be_clickable((By.ID, \"primaryGender\"))\n",
    "    )\n",
    "    select = Select(primary_gender_select)\n",
    "    print(\"Gender dropdown located successfully. Selecting 'Male'...\")\n",
    "    select.select_by_value(\"Male\")  # Select \"Male\" from the dropdown\n",
    "    print(\"Gender 'Male' selected.\")\n",
    "\n",
    "    print(\"Locating the DOB input field...\")\n",
    "    dob_input = wait.until(\n",
    "        EC.visibility_of_element_located((By.ID, \"primaryDOB\"))\n",
    "    )\n",
    "    print(\"DOB input field located. Setting DOB to '10/30/2001'...\")\n",
    "    driver.execute_script(\"arguments[0].value = '10/30/2001';\", dob_input)\n",
    "    print(\"DOB set successfully.\")\n",
    "    \n",
    "    print(\"Locating the tobacco usage dropdown...\")\n",
    "    tobacco_usage_select = wait.until(\n",
    "        EC.element_to_be_clickable((By.ID, \"primaryTobaccoUsage\"))\n",
    "    )\n",
    "    select_tobacco = Select(tobacco_usage_select)\n",
    "    print(\"Tobacco usage dropdown located successfully. Selecting 'Non-Smoker'...\")\n",
    "    select_tobacco.select_by_value(\"Non-Smoker\")  # Select \"Non-Smoker\" from the dropdown\n",
    "    print(\"Tobacco usage 'Non-Smoker' selected.\")\n",
    "    \n",
    "    # Fetch the HTML of the body after performing all actions\n",
    "    print(\"Fetching the HTML of the current page after updates...\")\n",
    "    body_html = driver.execute_script(\"return document.body.innerHTML;\")\n",
    "    print(\"Successfully retrieved HTML content of the page.\")\n",
    "    \n",
    "except NoSuchElementException as e:\n",
    "    print(\"Element not found error:\", e)\n",
    "except ElementNotInteractableException as e:\n",
    "    print(\"Element not interactable error:\", e)\n",
    "except UnexpectedTagNameException as e:\n",
    "    print(\"Unexpected tag name error when using Select on an element:\", e)\n",
    "except TimeoutException as e:\n",
    "    print(\"Timeout error while waiting for an element to be interactable:\", e)\n",
    "except Exception as e:\n",
    "    print(\"An unexpected error occurred:\", e)"
   ]
  },
  {
   "cell_type": "code",
   "execution_count": 29,
   "id": "5ddf7a90",
   "metadata": {},
   "outputs": [
    {
     "name": "stdout",
     "output_type": "stream",
     "text": [
      "Starting the process to navigate to the 'View Plans' page...\n",
      "Locating the 'View Plans' button by ID: viewPlansBtn\n",
      "Button located successfully. Proceeding to click the button.\n",
      "Button clicked. Navigating to the plans display page.\n",
      "Fetching and printing the HTML of the current page after clicking the 'View Plans' button...\n",
      "Successfully retrieved HTML content of the page.\n"
     ]
    }
   ],
   "source": [
    "print(\"Starting the process to navigate to the 'View Plans' page...\")\n",
    "\n",
    "try:\n",
    "    print(\"Locating the 'View Plans' button by ID: viewPlansBtn\")\n",
    "    # Locate the button by ID\n",
    "    button = wait.until(\n",
    "        EC.element_to_be_clickable((By.ID, \"viewPlansBtn\"))\n",
    "    )\n",
    "    print(\"Button located successfully. Proceeding to click the button.\")\n",
    "    \n",
    "    # Click the button if needed\n",
    "    button.click()\n",
    "    print(\"Button clicked. Navigating to the plans display page.\")\n",
    "\n",
    "    # To print out the HTML of the entire body after clicking\n",
    "    print(\"Fetching and printing the HTML of the current page after clicking the 'View Plans' button...\")\n",
    "    body_html = driver.execute_script(\"return document.body.innerHTML;\")\n",
    "    print(\"Successfully retrieved HTML content of the page.\")\n",
    "\n",
    "except NoSuchElementException as e:\n",
    "    print(\"Element not found error: The 'View Plans' button could not be located on the page.\", e)\n",
    "except ElementClickInterceptedException as e:\n",
    "    print(\"Element click intercepted error: Something is blocking the 'View Plans' button from being clicked.\", e)\n",
    "except ElementNotInteractableException as e:\n",
    "    print(\"Element not interactable error: The 'View Plans' button is present but not interactable at the moment.\", e)\n",
    "except TimeoutException as e:\n",
    "    print(\"Timeout error: The 'View Plans' button was not clickable within the time limit.\", e)\n",
    "except Exception as e:\n",
    "    print(\"An unexpected error occurred:\", e)\n",
    "    print(\"Error details:\", str(e))"
   ]
  },
  {
   "cell_type": "code",
   "execution_count": 15,
   "id": "c6ae5760",
   "metadata": {
    "scrolled": true
   },
   "outputs": [
    {
     "name": "stdout",
     "output_type": "stream",
     "text": [
      "Waiting for the 'plan-results' section to be visible on the webpage...\n",
      "An unexpected error occurred: Message: \n",
      "\n"
     ]
    }
   ],
   "source": [
    "plan_data = []\n",
    "\n",
    "try:\n",
    "    wait = WebDriverWait(driver, 10)\n",
    "    while True:\n",
    "        print(\"Waiting for the 'plan-results' section to be visible on the webpage...\")\n",
    "        wait.until(EC.visibility_of_element_located((By.CLASS_NAME, \"plan-results\")), message=\"Failed to find the 'plan-results' section within the timeout period.\")\n",
    "        print(\"The 'plan-results' section is now visible. Starting to process plan items...\")\n",
    "\n",
    "        plan_items = driver.find_elements(By.CLASS_NAME, \"plan-item\")\n",
    "        print(f\"Found {len(plan_items)} plan items on the page.\")\n",
    "\n",
    "        for index, item in enumerate(plan_items):\n",
    "            print(f\"Processing item {index + 1}...\")\n",
    "            try:\n",
    "                plan_name = item.find_element(By.CSS_SELECTOR, \"h2 a\").text\n",
    "                company_name = item.find_element(By.CSS_SELECTOR, \".plan-item-subtitle\").text\n",
    "                monthly_premium = item.find_element(By.CSS_SELECTOR, \".col-monthly-premium strong[data-name='baseRateAmount']\").text\n",
    "                individual_deductible = item.find_element(By.CSS_SELECTOR, \".col-annual-deductible .plan-cost .plan-type-value[data-name='individualAnnualDeductibleAmount']\").text\n",
    "                family_deductible = item.find_element(By.CSS_SELECTOR, \".col-annual-deductible .plan-cost .plan-type-value[data-name='familyAnnualDeductibleAmount']\").text\n",
    "                individual_oop_limit = item.find_element(By.CSS_SELECTOR, \".col-out-of-pocket-limit .plan-cost .plan-type-value[data-name='individualAnnualOOPLimitAmount']\").text\n",
    "                family_oop_limit = item.find_element(By.CSS_SELECTOR, \".col-out-of-pocket-limit .plan-cost .plan-type-value[data-name='familyAnnualOOPLimitAmount']\").text\n",
    "\n",
    "                plan_data.append({\n",
    "                    'Plan Name': plan_name,\n",
    "                    'Company Name': company_name,\n",
    "                    'Monthly Premium': monthly_premium,\n",
    "                    'Individual Deductible': individual_deductible,\n",
    "                    'Family Deductible': family_deductible,\n",
    "                    'Individual OOP Limit': individual_oop_limit,\n",
    "                    'Family OOP Limit': family_oop_limit\n",
    "                })\n",
    "                print(f\"Successfully processed {plan_name}.\")\n",
    "            except NoSuchElementException as e:\n",
    "                print(f\"Could not find one or more elements for plan {index + 1}. Error: {str(e)}\")\n",
    "            except WebDriverException as e:\n",
    "                print(f\"WebDriver error encountered for plan {index + 1}. Error: {str(e)}\")\n",
    "\n",
    "        # Check for and click the next page button if it exists and is not disabled\n",
    "        next_page_buttons = driver.find_elements(By.CSS_SELECTOR, \"a.btn_next:not(.disabled)\")\n",
    "        if next_page_buttons:\n",
    "            print(\"Navigating to the next page...\")\n",
    "            next_page_buttons[0].click()\n",
    "        else:\n",
    "            print(\"No more pages to process.\")\n",
    "            break\n",
    "\n",
    "    print(\"All plan items have been processed. Here are the collected data:\")\n",
    "    df = pd.DataFrame(plan_data)\n",
    "    print(df)\n",
    "\n",
    "except TimeoutException as e:\n",
    "    print(f\"Operation timed out while waiting for the 'plan-results' section: {str(e)}\")\n",
    "except Exception as e:\n",
    "    print(f\"An unexpected error occurred: {str(e)}\")"
   ]
  },
  {
   "cell_type": "code",
   "execution_count": 33,
   "id": "947828c0",
   "metadata": {},
   "outputs": [
    {
     "name": "stdout",
     "output_type": "stream",
     "text": [
      "An error occurred while trying to click the next page link with JavaScript: Message: A JavaScript exception occured: null is not an object (near '...h-child(6) > #next').click();})...')\n",
      "\n"
     ]
    }
   ],
   "source": [
    "try:\n",
    "    # Execute JavaScript to click the link\n",
    "    driver.execute_script(\"document.querySelector('body > div > #main-content > div > div.container.content-area > div > div.col-sm-9.border-left > #resultsDiv > #pagingBottom > li:nth-child(6) > #next').click();\")\n",
    "    print(\"Next page link clicked using JavaScript execution.\")\n",
    "\n",
    "except Exception as e:\n",
    "    print(f\"An error occurred while trying to click the next page link with JavaScript: {e}\")"
   ]
  },
  {
   "cell_type": "code",
   "execution_count": 34,
   "id": "be7c2e4e",
   "metadata": {},
   "outputs": [
    {
     "name": "stdout",
     "output_type": "stream",
     "text": [
      "Next page link not found on the page.\n"
     ]
    }
   ],
   "source": [
    "try:\n",
    "    next_page_link = driver.find_element(By.CSS_SELECTOR, \"body > div > #main-content > div > div.container.content-area > div > div.col-sm-9.border-left > #resultsDiv > #pagingBottom > li:nth-child(6) > #next\")\n",
    "    driver.execute_script(\"arguments[0].scrollIntoView(true);\", next_page_link)\n",
    "    next_page_link.click()\n",
    "    print(\"Next page link clicked after scrolling into view.\")\n",
    "\n",
    "except NoSuchElementException:\n",
    "    print(\"Next page link not found on the page.\")\n",
    "except Exception as e:\n",
    "    print(f\"An unexpected error occurred: {e}\")\n"
   ]
  },
  {
   "cell_type": "code",
   "execution_count": 35,
   "id": "8d9f337f",
   "metadata": {},
   "outputs": [
    {
     "name": "stdout",
     "output_type": "stream",
     "text": [
      "Next page link not found using ID.\n"
     ]
    }
   ],
   "source": [
    "try:\n",
    "    next_page_link = driver.find_element(By.ID, \"next\")\n",
    "    next_page_link.click()\n",
    "    print(\"Next page link clicked using ID.\")\n",
    "\n",
    "except NoSuchElementException:\n",
    "    print(\"Next page link not found using ID.\")\n",
    "except Exception as e:\n",
    "    print(f\"An unexpected error occurred: {e}\")"
   ]
  },
  {
   "cell_type": "code",
   "execution_count": 36,
   "id": "6817b69f",
   "metadata": {},
   "outputs": [
    {
     "name": "stdout",
     "output_type": "stream",
     "text": [
      "Checking for the presence of the next page link...\n",
      "Timed out waiting for the next page link to become clickable.\n"
     ]
    }
   ],
   "source": [
    "try:\n",
    "    wait = WebDriverWait(driver, 10)\n",
    "    print(\"Checking for the presence of the next page link...\")\n",
    "\n",
    "    # Wait for the link to be clickable\n",
    "    next_page_link = wait.until(EC.element_to_be_clickable((By.ID, \"next\")))\n",
    "    print(\"Next page link is clickable.\")\n",
    "\n",
    "    # Scroll the link into view and click it\n",
    "    driver.execute_script(\"arguments[0].scrollIntoView(true);\", next_page_link)\n",
    "    next_page_link.click()\n",
    "    print(\"Next page link clicked successfully.\")\n",
    "\n",
    "except TimeoutException:\n",
    "    print(\"Timed out waiting for the next page link to become clickable.\")\n",
    "except NoSuchElementException:\n",
    "    print(\"Next page link not found on the page.\")\n",
    "except Exception as e:\n",
    "    print(f\"An unexpected error occurred: {e}\")"
   ]
  },
  {
   "cell_type": "code",
   "execution_count": 37,
   "id": "fb9942af",
   "metadata": {},
   "outputs": [
    {
     "name": "stdout",
     "output_type": "stream",
     "text": [
      "Failed to retrieve content from pseudo-element: Message: A JavaScript exception occured: Argument 1 ('element') to Window.getComputedStyle must be an instance of Element\n",
      "\n"
     ]
    }
   ],
   "source": [
    "try:\n",
    "    # JavaScript to fetch content from a pseudo-element at the specified selector path\n",
    "    content_script = \"\"\"\n",
    "    return window.getComputedStyle(document.querySelector('body > div > #main-content > div > div.container.content-area > div > div.col-sm-9.border-left > #resultsDiv > #pagingBottom > li:nth-child(6) > #next'), '::after').getPropertyValue('content');\n",
    "    \"\"\"\n",
    "    content = driver.execute_script(content_script)\n",
    "    print(\"Content of ::after pseudo-element for the next page link:\", content)\n",
    "\n",
    "except Exception as e:\n",
    "    print(f\"Failed to retrieve content from pseudo-element: {e}\")\n"
   ]
  },
  {
   "cell_type": "code",
   "execution_count": null,
   "id": "105b8c89",
   "metadata": {},
   "outputs": [],
   "source": []
  }
 ],
 "metadata": {
  "kernelspec": {
   "display_name": "Python 3 (ipykernel)",
   "language": "python",
   "name": "python3"
  },
  "language_info": {
   "codemirror_mode": {
    "name": "ipython",
    "version": 3
   },
   "file_extension": ".py",
   "mimetype": "text/x-python",
   "name": "python",
   "nbconvert_exporter": "python",
   "pygments_lexer": "ipython3",
   "version": "3.11.7"
  }
 },
 "nbformat": 4,
 "nbformat_minor": 5
}
